{
  "cells": [
    {
      "cell_type": "code",
      "execution_count": null,
      "id": "ed55fb5d",
      "metadata": {
        "id": "ed55fb5d"
      },
      "outputs": [],
      "source": [
        "from sqlalchemy import create_engine\n",
        "import pandas as pd\n",
        "import numpy as np"
      ]
    },
    {
      "cell_type": "code",
      "execution_count": null,
      "id": "0ba47f14",
      "metadata": {
        "id": "0ba47f14"
      },
      "outputs": [],
      "source": [
        "# Dados da conexão\n",
        "usuario = 'root'\n",
        "senha = '********'\n",
        "host = 'localhost'\n",
        "porta = '3306'\n",
        "banco = 'VendasDB'\n",
        "\n",
        "# Criando a engine de conexão\n",
        "engine = create_engine(f'mysql+mysqlconnector://{usuario}:{senha}@{host}:{porta}/{banco}')"
      ]
    },
    {
      "cell_type": "code",
      "execution_count": null,
      "id": "9565034a",
      "metadata": {
        "id": "9565034a"
      },
      "outputs": [],
      "source": [
        "# Consultas do SQL\n",
        "dCalendario_query = 'SELECT * FROM dCalendario'\n",
        "dLojas_query = 'SELECT * FROM dLojas'\n",
        "dProduto_query = 'SELECT * FROM dProduto'\n",
        "fVendas_query = 'SELECT * FROM fVendas'\n",
        "\n",
        "# Lendo os dados para um DataFrame\n",
        "fVendas = pd.read_sql(fVendas_query, con=engine)\n",
        "dLojas = pd.read_sql(dLojas_query, con=engine)\n",
        "dProduto = pd.read_sql(dProduto_query, con=engine)\n",
        "dCalendario = pd.read_sql(dCalendario_query, con=engine)"
      ]
    },
    {
      "cell_type": "markdown",
      "id": "72d29732",
      "metadata": {
        "id": "72d29732"
      },
      "source": [
        "ETL - dCalendario"
      ]
    },
    {
      "cell_type": "code",
      "execution_count": null,
      "id": "81274c3c",
      "metadata": {
        "id": "81274c3c",
        "outputId": "8bd2aba8-a8af-4095-f12c-193d6b91d3cd"
      },
      "outputs": [
        {
          "data": {
            "text/html": [
              "<div>\n",
              "<style scoped>\n",
              "    .dataframe tbody tr th:only-of-type {\n",
              "        vertical-align: middle;\n",
              "    }\n",
              "\n",
              "    .dataframe tbody tr th {\n",
              "        vertical-align: top;\n",
              "    }\n",
              "\n",
              "    .dataframe thead th {\n",
              "        text-align: right;\n",
              "    }\n",
              "</style>\n",
              "<table border=\"1\" class=\"dataframe\">\n",
              "  <thead>\n",
              "    <tr style=\"text-align: right;\">\n",
              "      <th></th>\n",
              "      <th>Ano</th>\n",
              "      <th>Mês</th>\n",
              "      <th>Nome do Mês</th>\n",
              "      <th>Trimestre</th>\n",
              "      <th>Dia</th>\n",
              "      <th>AnoMesNum</th>\n",
              "      <th>Semestre</th>\n",
              "      <th>Dia da Semana</th>\n",
              "      <th>Data</th>\n",
              "      <th>AnoSemestre</th>\n",
              "      <th>SemanaAno</th>\n",
              "      <th>SemanaMes</th>\n",
              "      <th>Nome do Semestre</th>\n",
              "      <th>Nome do Trimestre</th>\n",
              "      <th>Nome do Mês Abv</th>\n",
              "      <th>Nome da Semana Ano</th>\n",
              "      <th>Nome da Semana Mes</th>\n",
              "      <th>AnoMes</th>\n",
              "    </tr>\n",
              "  </thead>\n",
              "  <tbody>\n",
              "    <tr>\n",
              "      <th>0</th>\n",
              "      <td>2007</td>\n",
              "      <td>1</td>\n",
              "      <td>Janeiro</td>\n",
              "      <td>1</td>\n",
              "      <td>7</td>\n",
              "      <td>200701</td>\n",
              "      <td>1</td>\n",
              "      <td>Domingo</td>\n",
              "      <td>07/01/2007</td>\n",
              "      <td>200701</td>\n",
              "      <td>2</td>\n",
              "      <td>2</td>\n",
              "      <td>S1</td>\n",
              "      <td>1º TRI</td>\n",
              "      <td>Jan</td>\n",
              "      <td>W2/07</td>\n",
              "      <td>W2</td>\n",
              "      <td>Jan/07</td>\n",
              "    </tr>\n",
              "    <tr>\n",
              "      <th>1</th>\n",
              "      <td>2007</td>\n",
              "      <td>1</td>\n",
              "      <td>Janeiro</td>\n",
              "      <td>1</td>\n",
              "      <td>8</td>\n",
              "      <td>200701</td>\n",
              "      <td>1</td>\n",
              "      <td>Segunda-Feira</td>\n",
              "      <td>08/01/2007</td>\n",
              "      <td>200701</td>\n",
              "      <td>2</td>\n",
              "      <td>2</td>\n",
              "      <td>S1</td>\n",
              "      <td>1º TRI</td>\n",
              "      <td>Jan</td>\n",
              "      <td>W2/07</td>\n",
              "      <td>W2</td>\n",
              "      <td>Jan/07</td>\n",
              "    </tr>\n",
              "    <tr>\n",
              "      <th>2</th>\n",
              "      <td>2007</td>\n",
              "      <td>1</td>\n",
              "      <td>Janeiro</td>\n",
              "      <td>1</td>\n",
              "      <td>9</td>\n",
              "      <td>200701</td>\n",
              "      <td>1</td>\n",
              "      <td>Terça-Feira</td>\n",
              "      <td>09/01/2007</td>\n",
              "      <td>200701</td>\n",
              "      <td>2</td>\n",
              "      <td>2</td>\n",
              "      <td>S1</td>\n",
              "      <td>1º TRI</td>\n",
              "      <td>Jan</td>\n",
              "      <td>W2/07</td>\n",
              "      <td>W2</td>\n",
              "      <td>Jan/07</td>\n",
              "    </tr>\n",
              "    <tr>\n",
              "      <th>3</th>\n",
              "      <td>2007</td>\n",
              "      <td>1</td>\n",
              "      <td>Janeiro</td>\n",
              "      <td>1</td>\n",
              "      <td>10</td>\n",
              "      <td>200701</td>\n",
              "      <td>1</td>\n",
              "      <td>Quarta-Feira</td>\n",
              "      <td>10/01/2007</td>\n",
              "      <td>200701</td>\n",
              "      <td>2</td>\n",
              "      <td>2</td>\n",
              "      <td>S1</td>\n",
              "      <td>1º TRI</td>\n",
              "      <td>Jan</td>\n",
              "      <td>W2/07</td>\n",
              "      <td>W2</td>\n",
              "      <td>Jan/07</td>\n",
              "    </tr>\n",
              "    <tr>\n",
              "      <th>4</th>\n",
              "      <td>2007</td>\n",
              "      <td>1</td>\n",
              "      <td>Janeiro</td>\n",
              "      <td>1</td>\n",
              "      <td>11</td>\n",
              "      <td>200701</td>\n",
              "      <td>1</td>\n",
              "      <td>Quinta-Feira</td>\n",
              "      <td>11/01/2007</td>\n",
              "      <td>200701</td>\n",
              "      <td>2</td>\n",
              "      <td>2</td>\n",
              "      <td>S1</td>\n",
              "      <td>1º TRI</td>\n",
              "      <td>Jan</td>\n",
              "      <td>W2/07</td>\n",
              "      <td>W2</td>\n",
              "      <td>Jan/07</td>\n",
              "    </tr>\n",
              "  </tbody>\n",
              "</table>\n",
              "</div>"
            ],
            "text/plain": [
              "    Ano  Mês Nome do Mês  Trimestre  Dia  AnoMesNum  Semestre  Dia da Semana  \\\n",
              "0  2007    1     Janeiro          1    7     200701         1        Domingo   \n",
              "1  2007    1     Janeiro          1    8     200701         1  Segunda-Feira   \n",
              "2  2007    1     Janeiro          1    9     200701         1    Terça-Feira   \n",
              "3  2007    1     Janeiro          1   10     200701         1   Quarta-Feira   \n",
              "4  2007    1     Janeiro          1   11     200701         1   Quinta-Feira   \n",
              "\n",
              "         Data  AnoSemestre  SemanaAno  SemanaMes Nome do Semestre  \\\n",
              "0  07/01/2007       200701          2          2               S1   \n",
              "1  08/01/2007       200701          2          2               S1   \n",
              "2  09/01/2007       200701          2          2               S1   \n",
              "3  10/01/2007       200701          2          2               S1   \n",
              "4  11/01/2007       200701          2          2               S1   \n",
              "\n",
              "  Nome do Trimestre Nome do Mês Abv Nome da Semana Ano Nome da Semana Mes  \\\n",
              "0            1º TRI             Jan              W2/07                 W2   \n",
              "1            1º TRI             Jan              W2/07                 W2   \n",
              "2            1º TRI             Jan              W2/07                 W2   \n",
              "3            1º TRI             Jan              W2/07                 W2   \n",
              "4            1º TRI             Jan              W2/07                 W2   \n",
              "\n",
              "   AnoMes  \n",
              "0  Jan/07  \n",
              "1  Jan/07  \n",
              "2  Jan/07  \n",
              "3  Jan/07  \n",
              "4  Jan/07  "
            ]
          },
          "execution_count": 43,
          "metadata": {},
          "output_type": "execute_result"
        }
      ],
      "source": [
        "# Mostrando as primeiras linhas de dCalendario\n",
        "dCalendario.head()"
      ]
    },
    {
      "cell_type": "code",
      "execution_count": null,
      "id": "401faccc",
      "metadata": {
        "id": "401faccc",
        "outputId": "1d16c30b-de39-4f45-9a7d-752b78988445"
      },
      "outputs": [
        {
          "name": "stdout",
          "output_type": "stream",
          "text": [
            "<class 'pandas.core.frame.DataFrame'>\n",
            "RangeIndex: 1096 entries, 0 to 1095\n",
            "Data columns (total 18 columns):\n",
            " #   Column              Non-Null Count  Dtype \n",
            "---  ------              --------------  ----- \n",
            " 0   Ano                 1096 non-null   int64 \n",
            " 1   Mês                 1096 non-null   int64 \n",
            " 2   Nome do Mês         1096 non-null   object\n",
            " 3   Trimestre           1096 non-null   int64 \n",
            " 4   Dia                 1096 non-null   int64 \n",
            " 5   AnoMesNum           1096 non-null   int64 \n",
            " 6   Semestre            1096 non-null   int64 \n",
            " 7   Dia da Semana       1096 non-null   object\n",
            " 8   Data                1096 non-null   object\n",
            " 9   AnoSemestre         1096 non-null   int64 \n",
            " 10  SemanaAno           1096 non-null   int64 \n",
            " 11  SemanaMes           1096 non-null   int64 \n",
            " 12  Nome do Semestre    1096 non-null   object\n",
            " 13  Nome do Trimestre   1096 non-null   object\n",
            " 14  Nome do Mês Abv     1096 non-null   object\n",
            " 15  Nome da Semana Ano  1096 non-null   object\n",
            " 16  Nome da Semana Mes  1096 non-null   object\n",
            " 17  AnoMes              1096 non-null   object\n",
            "dtypes: int64(9), object(9)\n",
            "memory usage: 154.2+ KB\n"
          ]
        }
      ],
      "source": [
        "# Mostrando informações do DataFrame dCalendario\n",
        "dCalendario.info()"
      ]
    },
    {
      "cell_type": "code",
      "execution_count": null,
      "id": "69d04835",
      "metadata": {
        "id": "69d04835"
      },
      "outputs": [],
      "source": [
        "# Removendo colunas desnecessárias de dCalendario\n",
        "dCalendario = dCalendario.drop(['Mês', 'AnoMesNum', 'AnoMes', 'Nome do Semestre', 'AnoSemestre', 'Semestre', 'Trimestre', 'Nome do Mês Abv', 'Nome da Semana Ano', 'Nome da Semana Mes'], axis=1)"
      ]
    },
    {
      "cell_type": "code",
      "execution_count": null,
      "id": "8871fff7",
      "metadata": {
        "id": "8871fff7"
      },
      "outputs": [],
      "source": [
        "# Renomeiando algumas colunas de dCalendario\n",
        "dCalendario.rename(columns={'Nome do Mês': 'Mês', 'Nome do Trimestre': 'Trimestre'}, inplace=True)"
      ]
    },
    {
      "cell_type": "code",
      "execution_count": null,
      "id": "f83b37a8",
      "metadata": {
        "id": "f83b37a8",
        "outputId": "b3f6458d-5e61-4dab-a4cf-6702d314821c"
      },
      "outputs": [
        {
          "data": {
            "text/html": [
              "<div>\n",
              "<style scoped>\n",
              "    .dataframe tbody tr th:only-of-type {\n",
              "        vertical-align: middle;\n",
              "    }\n",
              "\n",
              "    .dataframe tbody tr th {\n",
              "        vertical-align: top;\n",
              "    }\n",
              "\n",
              "    .dataframe thead th {\n",
              "        text-align: right;\n",
              "    }\n",
              "</style>\n",
              "<table border=\"1\" class=\"dataframe\">\n",
              "  <thead>\n",
              "    <tr style=\"text-align: right;\">\n",
              "      <th></th>\n",
              "      <th>Ano</th>\n",
              "      <th>Mês</th>\n",
              "      <th>Dia</th>\n",
              "      <th>Dia da Semana</th>\n",
              "      <th>Data</th>\n",
              "      <th>SemanaAno</th>\n",
              "      <th>SemanaMes</th>\n",
              "      <th>Trimestre</th>\n",
              "    </tr>\n",
              "  </thead>\n",
              "  <tbody>\n",
              "    <tr>\n",
              "      <th>0</th>\n",
              "      <td>2007</td>\n",
              "      <td>Janeiro</td>\n",
              "      <td>7</td>\n",
              "      <td>Domingo</td>\n",
              "      <td>07/01/2007</td>\n",
              "      <td>2</td>\n",
              "      <td>2</td>\n",
              "      <td>1º TRI</td>\n",
              "    </tr>\n",
              "    <tr>\n",
              "      <th>1</th>\n",
              "      <td>2007</td>\n",
              "      <td>Janeiro</td>\n",
              "      <td>8</td>\n",
              "      <td>Segunda-Feira</td>\n",
              "      <td>08/01/2007</td>\n",
              "      <td>2</td>\n",
              "      <td>2</td>\n",
              "      <td>1º TRI</td>\n",
              "    </tr>\n",
              "    <tr>\n",
              "      <th>2</th>\n",
              "      <td>2007</td>\n",
              "      <td>Janeiro</td>\n",
              "      <td>9</td>\n",
              "      <td>Terça-Feira</td>\n",
              "      <td>09/01/2007</td>\n",
              "      <td>2</td>\n",
              "      <td>2</td>\n",
              "      <td>1º TRI</td>\n",
              "    </tr>\n",
              "    <tr>\n",
              "      <th>3</th>\n",
              "      <td>2007</td>\n",
              "      <td>Janeiro</td>\n",
              "      <td>10</td>\n",
              "      <td>Quarta-Feira</td>\n",
              "      <td>10/01/2007</td>\n",
              "      <td>2</td>\n",
              "      <td>2</td>\n",
              "      <td>1º TRI</td>\n",
              "    </tr>\n",
              "    <tr>\n",
              "      <th>4</th>\n",
              "      <td>2007</td>\n",
              "      <td>Janeiro</td>\n",
              "      <td>11</td>\n",
              "      <td>Quinta-Feira</td>\n",
              "      <td>11/01/2007</td>\n",
              "      <td>2</td>\n",
              "      <td>2</td>\n",
              "      <td>1º TRI</td>\n",
              "    </tr>\n",
              "  </tbody>\n",
              "</table>\n",
              "</div>"
            ],
            "text/plain": [
              "    Ano      Mês  Dia  Dia da Semana        Data  SemanaAno  SemanaMes  \\\n",
              "0  2007  Janeiro    7        Domingo  07/01/2007          2          2   \n",
              "1  2007  Janeiro    8  Segunda-Feira  08/01/2007          2          2   \n",
              "2  2007  Janeiro    9    Terça-Feira  09/01/2007          2          2   \n",
              "3  2007  Janeiro   10   Quarta-Feira  10/01/2007          2          2   \n",
              "4  2007  Janeiro   11   Quinta-Feira  11/01/2007          2          2   \n",
              "\n",
              "  Trimestre  \n",
              "0    1º TRI  \n",
              "1    1º TRI  \n",
              "2    1º TRI  \n",
              "3    1º TRI  \n",
              "4    1º TRI  "
            ]
          },
          "execution_count": 47,
          "metadata": {},
          "output_type": "execute_result"
        }
      ],
      "source": [
        "# Mostrando as primeiras linhas atualizadas de dCalendario\n",
        "dCalendario.head()"
      ]
    },
    {
      "cell_type": "markdown",
      "id": "36797f66",
      "metadata": {
        "id": "36797f66"
      },
      "source": [
        "ETL - dLojas"
      ]
    },
    {
      "cell_type": "code",
      "execution_count": null,
      "id": "6ff95e08",
      "metadata": {
        "id": "6ff95e08",
        "outputId": "030a130e-cb9a-48cb-892a-de2c005215d2"
      },
      "outputs": [
        {
          "data": {
            "text/html": [
              "<div>\n",
              "<style scoped>\n",
              "    .dataframe tbody tr th:only-of-type {\n",
              "        vertical-align: middle;\n",
              "    }\n",
              "\n",
              "    .dataframe tbody tr th {\n",
              "        vertical-align: top;\n",
              "    }\n",
              "\n",
              "    .dataframe thead th {\n",
              "        text-align: right;\n",
              "    }\n",
              "</style>\n",
              "<table border=\"1\" class=\"dataframe\">\n",
              "  <thead>\n",
              "    <tr style=\"text-align: right;\">\n",
              "      <th></th>\n",
              "      <th>IdLoja</th>\n",
              "      <th>TipoLoja</th>\n",
              "      <th>NomeLoja</th>\n",
              "      <th>DataAbertura</th>\n",
              "      <th>DataFechamento</th>\n",
              "      <th>CEP</th>\n",
              "      <th>Endereco</th>\n",
              "    </tr>\n",
              "  </thead>\n",
              "  <tbody>\n",
              "    <tr>\n",
              "      <th>0</th>\n",
              "      <td>1</td>\n",
              "      <td>Store</td>\n",
              "      <td>Contoso Seattle No.1 Store</td>\n",
              "      <td>20/01/2007</td>\n",
              "      <td></td>\n",
              "      <td>97001</td>\n",
              "      <td>East Queen Anne Big shopping mall</td>\n",
              "    </tr>\n",
              "    <tr>\n",
              "      <th>1</th>\n",
              "      <td>2</td>\n",
              "      <td>Online</td>\n",
              "      <td>Contoso Seattle No.2 Store</td>\n",
              "      <td>12/02/2007</td>\n",
              "      <td></td>\n",
              "      <td>97001</td>\n",
              "      <td>East Queen Anne Big shopping mall</td>\n",
              "    </tr>\n",
              "    <tr>\n",
              "      <th>2</th>\n",
              "      <td>3</td>\n",
              "      <td>Store</td>\n",
              "      <td>Contoso Kennewick Store</td>\n",
              "      <td>12/02/2007</td>\n",
              "      <td></td>\n",
              "      <td>97001</td>\n",
              "      <td>Kennewick,  Downtown</td>\n",
              "    </tr>\n",
              "    <tr>\n",
              "      <th>3</th>\n",
              "      <td>4</td>\n",
              "      <td>Store</td>\n",
              "      <td>Contoso Bellevue Store</td>\n",
              "      <td>01/03/2007</td>\n",
              "      <td></td>\n",
              "      <td>97001</td>\n",
              "      <td>West Lake Hills shopping mall</td>\n",
              "    </tr>\n",
              "    <tr>\n",
              "      <th>4</th>\n",
              "      <td>5</td>\n",
              "      <td>Store</td>\n",
              "      <td>Contoso Redmond No1. Store</td>\n",
              "      <td>02/04/2007</td>\n",
              "      <td></td>\n",
              "      <td>97001</td>\n",
              "      <td>Downtown shopping mall</td>\n",
              "    </tr>\n",
              "  </tbody>\n",
              "</table>\n",
              "</div>"
            ],
            "text/plain": [
              "   IdLoja TipoLoja                    NomeLoja DataAbertura DataFechamento  \\\n",
              "0       1    Store  Contoso Seattle No.1 Store   20/01/2007                  \n",
              "1       2   Online  Contoso Seattle No.2 Store   12/02/2007                  \n",
              "2       3    Store     Contoso Kennewick Store   12/02/2007                  \n",
              "3       4    Store      Contoso Bellevue Store   01/03/2007                  \n",
              "4       5    Store  Contoso Redmond No1. Store   02/04/2007                  \n",
              "\n",
              "     CEP                           Endereco  \n",
              "0  97001  East Queen Anne Big shopping mall  \n",
              "1  97001  East Queen Anne Big shopping mall  \n",
              "2  97001               Kennewick,  Downtown  \n",
              "3  97001      West Lake Hills shopping mall  \n",
              "4  97001             Downtown shopping mall  "
            ]
          },
          "execution_count": 49,
          "metadata": {},
          "output_type": "execute_result"
        }
      ],
      "source": [
        "# Mostrando as primeiras linhas de dLojas\n",
        "dLojas.head()"
      ]
    },
    {
      "cell_type": "code",
      "execution_count": null,
      "id": "f5a601b0",
      "metadata": {
        "id": "f5a601b0",
        "outputId": "91c89aeb-2e05-4b0b-cd04-7ebd60bf6157"
      },
      "outputs": [
        {
          "name": "stdout",
          "output_type": "stream",
          "text": [
            "<class 'pandas.core.frame.DataFrame'>\n",
            "RangeIndex: 10 entries, 0 to 9\n",
            "Data columns (total 7 columns):\n",
            " #   Column          Non-Null Count  Dtype \n",
            "---  ------          --------------  ----- \n",
            " 0   IdLoja          10 non-null     int64 \n",
            " 1   TipoLoja        10 non-null     object\n",
            " 2   NomeLoja        10 non-null     object\n",
            " 3   DataAbertura    10 non-null     object\n",
            " 4   DataFechamento  10 non-null     object\n",
            " 5   CEP             10 non-null     int64 \n",
            " 6   Endereco        10 non-null     object\n",
            "dtypes: int64(2), object(5)\n",
            "memory usage: 688.0+ bytes\n"
          ]
        }
      ],
      "source": [
        "# Mostrando informações do DataFrame dLojas\n",
        "dLojas.info()"
      ]
    },
    {
      "cell_type": "code",
      "execution_count": null,
      "id": "46dd50c5",
      "metadata": {
        "id": "46dd50c5"
      },
      "outputs": [],
      "source": [
        "# Removendo colunas desnecessárias de dLojas\n",
        "dLojas = dLojas.drop(['DataAbertura',\t'DataFechamento', 'CEP', 'Endereco'], axis=1)"
      ]
    },
    {
      "cell_type": "code",
      "execution_count": null,
      "id": "f30e1028",
      "metadata": {
        "id": "f30e1028",
        "outputId": "d7e6d409-56ba-4022-d3f2-8459cfffee63"
      },
      "outputs": [
        {
          "data": {
            "text/html": [
              "<div>\n",
              "<style scoped>\n",
              "    .dataframe tbody tr th:only-of-type {\n",
              "        vertical-align: middle;\n",
              "    }\n",
              "\n",
              "    .dataframe tbody tr th {\n",
              "        vertical-align: top;\n",
              "    }\n",
              "\n",
              "    .dataframe thead th {\n",
              "        text-align: right;\n",
              "    }\n",
              "</style>\n",
              "<table border=\"1\" class=\"dataframe\">\n",
              "  <thead>\n",
              "    <tr style=\"text-align: right;\">\n",
              "      <th></th>\n",
              "      <th>IdLoja</th>\n",
              "      <th>TipoLoja</th>\n",
              "      <th>NomeLoja</th>\n",
              "    </tr>\n",
              "  </thead>\n",
              "  <tbody>\n",
              "    <tr>\n",
              "      <th>0</th>\n",
              "      <td>1</td>\n",
              "      <td>Store</td>\n",
              "      <td>Contoso Seattle No.1 Store</td>\n",
              "    </tr>\n",
              "    <tr>\n",
              "      <th>1</th>\n",
              "      <td>2</td>\n",
              "      <td>Online</td>\n",
              "      <td>Contoso Seattle No.2 Store</td>\n",
              "    </tr>\n",
              "    <tr>\n",
              "      <th>2</th>\n",
              "      <td>3</td>\n",
              "      <td>Store</td>\n",
              "      <td>Contoso Kennewick Store</td>\n",
              "    </tr>\n",
              "    <tr>\n",
              "      <th>3</th>\n",
              "      <td>4</td>\n",
              "      <td>Store</td>\n",
              "      <td>Contoso Bellevue Store</td>\n",
              "    </tr>\n",
              "    <tr>\n",
              "      <th>4</th>\n",
              "      <td>5</td>\n",
              "      <td>Store</td>\n",
              "      <td>Contoso Redmond No1. Store</td>\n",
              "    </tr>\n",
              "  </tbody>\n",
              "</table>\n",
              "</div>"
            ],
            "text/plain": [
              "   IdLoja TipoLoja                    NomeLoja\n",
              "0       1    Store  Contoso Seattle No.1 Store\n",
              "1       2   Online  Contoso Seattle No.2 Store\n",
              "2       3    Store     Contoso Kennewick Store\n",
              "3       4    Store      Contoso Bellevue Store\n",
              "4       5    Store  Contoso Redmond No1. Store"
            ]
          },
          "execution_count": 52,
          "metadata": {},
          "output_type": "execute_result"
        }
      ],
      "source": [
        "# Mostrando as primeiras linhas atualizadas de dLojas\n",
        "dLojas.head()"
      ]
    },
    {
      "cell_type": "markdown",
      "id": "ce562fb7",
      "metadata": {
        "id": "ce562fb7"
      },
      "source": [
        "ETL - dProduto"
      ]
    },
    {
      "cell_type": "code",
      "execution_count": null,
      "id": "66924660",
      "metadata": {
        "id": "66924660",
        "outputId": "cb26d605-9070-4a8b-9f01-cf5d3df51396"
      },
      "outputs": [
        {
          "data": {
            "text/html": [
              "<div>\n",
              "<style scoped>\n",
              "    .dataframe tbody tr th:only-of-type {\n",
              "        vertical-align: middle;\n",
              "    }\n",
              "\n",
              "    .dataframe tbody tr th {\n",
              "        vertical-align: top;\n",
              "    }\n",
              "\n",
              "    .dataframe thead th {\n",
              "        text-align: right;\n",
              "    }\n",
              "</style>\n",
              "<table border=\"1\" class=\"dataframe\">\n",
              "  <thead>\n",
              "    <tr style=\"text-align: right;\">\n",
              "      <th></th>\n",
              "      <th>IdProduto</th>\n",
              "      <th>NomeProduto</th>\n",
              "      <th>IdProdutoSubcategoria</th>\n",
              "      <th>Marca</th>\n",
              "      <th>Classe</th>\n",
              "      <th>Cor</th>\n",
              "    </tr>\n",
              "  </thead>\n",
              "  <tbody>\n",
              "    <tr>\n",
              "      <th>0</th>\n",
              "      <td>842</td>\n",
              "      <td>Contoso Bright Light battery E20 Black</td>\n",
              "      <td>22</td>\n",
              "      <td>Contoso</td>\n",
              "      <td>Economy</td>\n",
              "      <td>Black</td>\n",
              "    </tr>\n",
              "    <tr>\n",
              "      <th>1</th>\n",
              "      <td>843</td>\n",
              "      <td>Contoso Bright Light battery E20 blue</td>\n",
              "      <td>22</td>\n",
              "      <td>Contoso</td>\n",
              "      <td>Economy</td>\n",
              "      <td>Blue</td>\n",
              "    </tr>\n",
              "    <tr>\n",
              "      <th>2</th>\n",
              "      <td>844</td>\n",
              "      <td>Contoso Bright Light battery E20 Pink</td>\n",
              "      <td>22</td>\n",
              "      <td>Contoso</td>\n",
              "      <td>Economy</td>\n",
              "      <td>Pink</td>\n",
              "    </tr>\n",
              "    <tr>\n",
              "      <th>3</th>\n",
              "      <td>845</td>\n",
              "      <td>Contoso Bright Light battery E20 White</td>\n",
              "      <td>22</td>\n",
              "      <td>Contoso</td>\n",
              "      <td>Economy</td>\n",
              "      <td>White</td>\n",
              "    </tr>\n",
              "    <tr>\n",
              "      <th>4</th>\n",
              "      <td>846</td>\n",
              "      <td>Contoso Ultraportable Neoprene Sleeve E30 Black</td>\n",
              "      <td>22</td>\n",
              "      <td>Contoso</td>\n",
              "      <td>Economy</td>\n",
              "      <td>Black</td>\n",
              "    </tr>\n",
              "  </tbody>\n",
              "</table>\n",
              "</div>"
            ],
            "text/plain": [
              "   IdProduto                                      NomeProduto  \\\n",
              "0        842           Contoso Bright Light battery E20 Black   \n",
              "1        843            Contoso Bright Light battery E20 blue   \n",
              "2        844            Contoso Bright Light battery E20 Pink   \n",
              "3        845           Contoso Bright Light battery E20 White   \n",
              "4        846  Contoso Ultraportable Neoprene Sleeve E30 Black   \n",
              "\n",
              "   IdProdutoSubcategoria    Marca   Classe    Cor  \n",
              "0                     22  Contoso  Economy  Black  \n",
              "1                     22  Contoso  Economy   Blue  \n",
              "2                     22  Contoso  Economy   Pink  \n",
              "3                     22  Contoso  Economy  White  \n",
              "4                     22  Contoso  Economy  Black  "
            ]
          },
          "execution_count": 53,
          "metadata": {},
          "output_type": "execute_result"
        }
      ],
      "source": [
        "# Mostrando as primeiras linhas de dProduto\n",
        "dProduto.head()"
      ]
    },
    {
      "cell_type": "code",
      "execution_count": null,
      "id": "4db27d99",
      "metadata": {
        "id": "4db27d99",
        "outputId": "529d0b25-3516-42f0-8892-7278a0d9155b"
      },
      "outputs": [
        {
          "name": "stdout",
          "output_type": "stream",
          "text": [
            "<class 'pandas.core.frame.DataFrame'>\n",
            "RangeIndex: 2394 entries, 0 to 2393\n",
            "Data columns (total 6 columns):\n",
            " #   Column                 Non-Null Count  Dtype \n",
            "---  ------                 --------------  ----- \n",
            " 0   IdProduto              2394 non-null   int64 \n",
            " 1   NomeProduto            2394 non-null   object\n",
            " 2   IdProdutoSubcategoria  2394 non-null   int64 \n",
            " 3   Marca                  2394 non-null   object\n",
            " 4   Classe                 2394 non-null   object\n",
            " 5   Cor                    2394 non-null   object\n",
            "dtypes: int64(2), object(4)\n",
            "memory usage: 112.3+ KB\n"
          ]
        }
      ],
      "source": [
        "# Mostrando informações do DataFrame dProduto\n",
        "dProduto.info()"
      ]
    },
    {
      "cell_type": "code",
      "execution_count": null,
      "id": "c77ff390",
      "metadata": {
        "id": "c77ff390"
      },
      "outputs": [],
      "source": [
        "# Removendo colunas desnecessárias de dProduto\n",
        "dProduto = dProduto.drop(['IdProdutoSubcategoria', 'Cor'], axis=1)"
      ]
    },
    {
      "cell_type": "code",
      "execution_count": null,
      "id": "ddf41ced",
      "metadata": {
        "id": "ddf41ced",
        "outputId": "5160bddd-7627-4f17-d465-2d9e00ada9f3"
      },
      "outputs": [
        {
          "data": {
            "text/html": [
              "<div>\n",
              "<style scoped>\n",
              "    .dataframe tbody tr th:only-of-type {\n",
              "        vertical-align: middle;\n",
              "    }\n",
              "\n",
              "    .dataframe tbody tr th {\n",
              "        vertical-align: top;\n",
              "    }\n",
              "\n",
              "    .dataframe thead th {\n",
              "        text-align: right;\n",
              "    }\n",
              "</style>\n",
              "<table border=\"1\" class=\"dataframe\">\n",
              "  <thead>\n",
              "    <tr style=\"text-align: right;\">\n",
              "      <th></th>\n",
              "      <th>IdProduto</th>\n",
              "      <th>NomeProduto</th>\n",
              "      <th>Marca</th>\n",
              "      <th>Classe</th>\n",
              "    </tr>\n",
              "  </thead>\n",
              "  <tbody>\n",
              "    <tr>\n",
              "      <th>0</th>\n",
              "      <td>842</td>\n",
              "      <td>Contoso Bright Light battery E20 Black</td>\n",
              "      <td>Contoso</td>\n",
              "      <td>Economy</td>\n",
              "    </tr>\n",
              "    <tr>\n",
              "      <th>1</th>\n",
              "      <td>843</td>\n",
              "      <td>Contoso Bright Light battery E20 blue</td>\n",
              "      <td>Contoso</td>\n",
              "      <td>Economy</td>\n",
              "    </tr>\n",
              "    <tr>\n",
              "      <th>2</th>\n",
              "      <td>844</td>\n",
              "      <td>Contoso Bright Light battery E20 Pink</td>\n",
              "      <td>Contoso</td>\n",
              "      <td>Economy</td>\n",
              "    </tr>\n",
              "    <tr>\n",
              "      <th>3</th>\n",
              "      <td>845</td>\n",
              "      <td>Contoso Bright Light battery E20 White</td>\n",
              "      <td>Contoso</td>\n",
              "      <td>Economy</td>\n",
              "    </tr>\n",
              "    <tr>\n",
              "      <th>4</th>\n",
              "      <td>846</td>\n",
              "      <td>Contoso Ultraportable Neoprene Sleeve E30 Black</td>\n",
              "      <td>Contoso</td>\n",
              "      <td>Economy</td>\n",
              "    </tr>\n",
              "  </tbody>\n",
              "</table>\n",
              "</div>"
            ],
            "text/plain": [
              "   IdProduto                                      NomeProduto    Marca  \\\n",
              "0        842           Contoso Bright Light battery E20 Black  Contoso   \n",
              "1        843            Contoso Bright Light battery E20 blue  Contoso   \n",
              "2        844            Contoso Bright Light battery E20 Pink  Contoso   \n",
              "3        845           Contoso Bright Light battery E20 White  Contoso   \n",
              "4        846  Contoso Ultraportable Neoprene Sleeve E30 Black  Contoso   \n",
              "\n",
              "    Classe  \n",
              "0  Economy  \n",
              "1  Economy  \n",
              "2  Economy  \n",
              "3  Economy  \n",
              "4  Economy  "
            ]
          },
          "execution_count": 56,
          "metadata": {},
          "output_type": "execute_result"
        }
      ],
      "source": [
        "# Mostrando as primeiras linhas atualizadas de dProduto\n",
        "dProduto.head()"
      ]
    },
    {
      "cell_type": "markdown",
      "id": "a6112eb4",
      "metadata": {
        "id": "a6112eb4"
      },
      "source": [
        "ETL - fVendas"
      ]
    },
    {
      "cell_type": "code",
      "execution_count": null,
      "id": "bae514f1",
      "metadata": {
        "id": "bae514f1",
        "outputId": "e5cc6dd3-4f3f-4aac-eac6-e13739c2d123"
      },
      "outputs": [
        {
          "data": {
            "text/html": [
              "<div>\n",
              "<style scoped>\n",
              "    .dataframe tbody tr th:only-of-type {\n",
              "        vertical-align: middle;\n",
              "    }\n",
              "\n",
              "    .dataframe tbody tr th {\n",
              "        vertical-align: top;\n",
              "    }\n",
              "\n",
              "    .dataframe thead th {\n",
              "        text-align: right;\n",
              "    }\n",
              "</style>\n",
              "<table border=\"1\" class=\"dataframe\">\n",
              "  <thead>\n",
              "    <tr style=\"text-align: right;\">\n",
              "      <th></th>\n",
              "      <th>IdVenda</th>\n",
              "      <th>Data</th>\n",
              "      <th>IdLoja</th>\n",
              "      <th>IdProduto</th>\n",
              "      <th>CustoUnitario</th>\n",
              "      <th>PrecoUnitario</th>\n",
              "      <th>QtdVenda</th>\n",
              "      <th>QtdDevolucao</th>\n",
              "      <th>VlrDevolucao</th>\n",
              "      <th>VlrDesconto</th>\n",
              "    </tr>\n",
              "  </thead>\n",
              "  <tbody>\n",
              "    <tr>\n",
              "      <th>0</th>\n",
              "      <td>29133</td>\n",
              "      <td>02/05/2008</td>\n",
              "      <td>5</td>\n",
              "      <td>848</td>\n",
              "      <td>R$ 7,95</td>\n",
              "      <td>R$ 15,60</td>\n",
              "      <td>10</td>\n",
              "      <td>0</td>\n",
              "      <td>R$ 0</td>\n",
              "      <td>R$ 0</td>\n",
              "    </tr>\n",
              "    <tr>\n",
              "      <th>1</th>\n",
              "      <td>973276</td>\n",
              "      <td>01/10/2008</td>\n",
              "      <td>5</td>\n",
              "      <td>847</td>\n",
              "      <td>R$ 7,95</td>\n",
              "      <td>R$ 15,60</td>\n",
              "      <td>10</td>\n",
              "      <td>0</td>\n",
              "      <td>R$ 0</td>\n",
              "      <td>R$ 0</td>\n",
              "    </tr>\n",
              "    <tr>\n",
              "      <th>2</th>\n",
              "      <td>558373</td>\n",
              "      <td>12/05/2008</td>\n",
              "      <td>5</td>\n",
              "      <td>870</td>\n",
              "      <td>R$ 10,69</td>\n",
              "      <td>R$ 20,96</td>\n",
              "      <td>10</td>\n",
              "      <td>0</td>\n",
              "      <td>R$ 0</td>\n",
              "      <td>R$ 0</td>\n",
              "    </tr>\n",
              "    <tr>\n",
              "      <th>3</th>\n",
              "      <td>754202</td>\n",
              "      <td>07/05/2008</td>\n",
              "      <td>5</td>\n",
              "      <td>1267</td>\n",
              "      <td>R$ 25,47</td>\n",
              "      <td>R$ 49,96</td>\n",
              "      <td>10</td>\n",
              "      <td>0</td>\n",
              "      <td>R$ 0</td>\n",
              "      <td>R$ 0</td>\n",
              "    </tr>\n",
              "    <tr>\n",
              "      <th>4</th>\n",
              "      <td>248559</td>\n",
              "      <td>07/06/2009</td>\n",
              "      <td>5</td>\n",
              "      <td>886</td>\n",
              "      <td>R$ 49,70</td>\n",
              "      <td>R$ 150</td>\n",
              "      <td>10</td>\n",
              "      <td>0</td>\n",
              "      <td>R$ 0</td>\n",
              "      <td>R$ 0</td>\n",
              "    </tr>\n",
              "  </tbody>\n",
              "</table>\n",
              "</div>"
            ],
            "text/plain": [
              "   IdVenda        Data  IdLoja  IdProduto CustoUnitario PrecoUnitario  \\\n",
              "0    29133  02/05/2008       5        848       R$ 7,95      R$ 15,60   \n",
              "1   973276  01/10/2008       5        847       R$ 7,95      R$ 15,60   \n",
              "2   558373  12/05/2008       5        870      R$ 10,69      R$ 20,96   \n",
              "3   754202  07/05/2008       5       1267      R$ 25,47      R$ 49,96   \n",
              "4   248559  07/06/2009       5        886      R$ 49,70        R$ 150   \n",
              "\n",
              "   QtdVenda  QtdDevolucao VlrDevolucao VlrDesconto  \n",
              "0        10             0         R$ 0        R$ 0  \n",
              "1        10             0         R$ 0        R$ 0  \n",
              "2        10             0         R$ 0        R$ 0  \n",
              "3        10             0         R$ 0        R$ 0  \n",
              "4        10             0         R$ 0        R$ 0  "
            ]
          },
          "execution_count": 57,
          "metadata": {},
          "output_type": "execute_result"
        }
      ],
      "source": [
        "# Mostrando as primeiras linhas de fVendas\n",
        "fVendas.head()"
      ]
    },
    {
      "cell_type": "code",
      "execution_count": null,
      "id": "8a69003d",
      "metadata": {
        "id": "8a69003d",
        "outputId": "c2db2276-8527-43c2-e856-1fe700e85d53"
      },
      "outputs": [
        {
          "name": "stdout",
          "output_type": "stream",
          "text": [
            "<class 'pandas.core.frame.DataFrame'>\n",
            "RangeIndex: 583 entries, 0 to 582\n",
            "Data columns (total 10 columns):\n",
            " #   Column         Non-Null Count  Dtype \n",
            "---  ------         --------------  ----- \n",
            " 0   IdVenda        583 non-null    int64 \n",
            " 1   Data           583 non-null    object\n",
            " 2   IdLoja         583 non-null    int64 \n",
            " 3   IdProduto      583 non-null    int64 \n",
            " 4   CustoUnitario  583 non-null    object\n",
            " 5   PrecoUnitario  583 non-null    object\n",
            " 6   QtdVenda       583 non-null    int64 \n",
            " 7   QtdDevolucao   583 non-null    int64 \n",
            " 8   VlrDevolucao   583 non-null    object\n",
            " 9   VlrDesconto    583 non-null    object\n",
            "dtypes: int64(5), object(5)\n",
            "memory usage: 45.7+ KB\n"
          ]
        }
      ],
      "source": [
        "# Mostrando informações do DataFrame fVendas\n",
        "fVendas.info()"
      ]
    },
    {
      "cell_type": "code",
      "execution_count": null,
      "id": "383abd3c",
      "metadata": {
        "id": "383abd3c"
      },
      "outputs": [],
      "source": [
        "# Subtituindo valores das colunas de fVendas\n",
        "colunas = ['CustoUnitario', 'PrecoUnitario', 'VlrDevolucao', 'VlrDesconto']\n",
        "\n",
        "for coluna in colunas:\n",
        "    fVendas[coluna] = (\n",
        "        fVendas[coluna]\n",
        "        .str.replace('R$ ', '')\n",
        "    )\n",
        "\n",
        "for coluna in colunas:\n",
        "    fVendas[coluna] = (\n",
        "        fVendas[coluna]\n",
        "        .str.replace('.', '')\n",
        "    )\n",
        "\n",
        "\n",
        "for coluna in colunas:\n",
        "    fVendas[coluna] = (\n",
        "        fVendas[coluna]\n",
        "        .str.replace(',', '.')\n",
        "    )"
      ]
    },
    {
      "cell_type": "code",
      "execution_count": null,
      "id": "bbdaaf10",
      "metadata": {
        "id": "bbdaaf10"
      },
      "outputs": [],
      "source": [
        "# Convertendo os dados para float\n",
        "fVendas[['CustoUnitario', 'PrecoUnitario', 'VlrDevolucao', 'VlrDesconto']] = fVendas[['CustoUnitario', 'PrecoUnitario', 'VlrDevolucao', 'VlrDesconto']].astype(float)"
      ]
    },
    {
      "cell_type": "code",
      "execution_count": null,
      "id": "be4c3d1a",
      "metadata": {
        "id": "be4c3d1a"
      },
      "outputs": [],
      "source": [
        "# Criando coluna para calcular o total de vendas\n",
        "fVendas['VlrVendido'] = fVendas['QtdVenda'] * fVendas['PrecoUnitario']"
      ]
    },
    {
      "cell_type": "code",
      "execution_count": null,
      "id": "0a13d6f7",
      "metadata": {
        "id": "0a13d6f7",
        "outputId": "9f7acac6-c500-4f20-a2c0-160f0f850ad8"
      },
      "outputs": [
        {
          "data": {
            "text/html": [
              "<div>\n",
              "<style scoped>\n",
              "    .dataframe tbody tr th:only-of-type {\n",
              "        vertical-align: middle;\n",
              "    }\n",
              "\n",
              "    .dataframe tbody tr th {\n",
              "        vertical-align: top;\n",
              "    }\n",
              "\n",
              "    .dataframe thead th {\n",
              "        text-align: right;\n",
              "    }\n",
              "</style>\n",
              "<table border=\"1\" class=\"dataframe\">\n",
              "  <thead>\n",
              "    <tr style=\"text-align: right;\">\n",
              "      <th></th>\n",
              "      <th>IdVenda</th>\n",
              "      <th>Data</th>\n",
              "      <th>IdLoja</th>\n",
              "      <th>IdProduto</th>\n",
              "      <th>CustoUnitario</th>\n",
              "      <th>PrecoUnitario</th>\n",
              "      <th>QtdVenda</th>\n",
              "      <th>QtdDevolucao</th>\n",
              "      <th>VlrDevolucao</th>\n",
              "      <th>VlrDesconto</th>\n",
              "      <th>VlrVendido</th>\n",
              "    </tr>\n",
              "  </thead>\n",
              "  <tbody>\n",
              "    <tr>\n",
              "      <th>0</th>\n",
              "      <td>29133</td>\n",
              "      <td>02/05/2008</td>\n",
              "      <td>5</td>\n",
              "      <td>848</td>\n",
              "      <td>7.95</td>\n",
              "      <td>15.60</td>\n",
              "      <td>10</td>\n",
              "      <td>0</td>\n",
              "      <td>0.0</td>\n",
              "      <td>0.0</td>\n",
              "      <td>156.0</td>\n",
              "    </tr>\n",
              "    <tr>\n",
              "      <th>1</th>\n",
              "      <td>973276</td>\n",
              "      <td>01/10/2008</td>\n",
              "      <td>5</td>\n",
              "      <td>847</td>\n",
              "      <td>7.95</td>\n",
              "      <td>15.60</td>\n",
              "      <td>10</td>\n",
              "      <td>0</td>\n",
              "      <td>0.0</td>\n",
              "      <td>0.0</td>\n",
              "      <td>156.0</td>\n",
              "    </tr>\n",
              "    <tr>\n",
              "      <th>2</th>\n",
              "      <td>558373</td>\n",
              "      <td>12/05/2008</td>\n",
              "      <td>5</td>\n",
              "      <td>870</td>\n",
              "      <td>10.69</td>\n",
              "      <td>20.96</td>\n",
              "      <td>10</td>\n",
              "      <td>0</td>\n",
              "      <td>0.0</td>\n",
              "      <td>0.0</td>\n",
              "      <td>209.6</td>\n",
              "    </tr>\n",
              "    <tr>\n",
              "      <th>3</th>\n",
              "      <td>754202</td>\n",
              "      <td>07/05/2008</td>\n",
              "      <td>5</td>\n",
              "      <td>1267</td>\n",
              "      <td>25.47</td>\n",
              "      <td>49.96</td>\n",
              "      <td>10</td>\n",
              "      <td>0</td>\n",
              "      <td>0.0</td>\n",
              "      <td>0.0</td>\n",
              "      <td>499.6</td>\n",
              "    </tr>\n",
              "    <tr>\n",
              "      <th>4</th>\n",
              "      <td>248559</td>\n",
              "      <td>07/06/2009</td>\n",
              "      <td>5</td>\n",
              "      <td>886</td>\n",
              "      <td>49.70</td>\n",
              "      <td>150.00</td>\n",
              "      <td>10</td>\n",
              "      <td>0</td>\n",
              "      <td>0.0</td>\n",
              "      <td>0.0</td>\n",
              "      <td>1500.0</td>\n",
              "    </tr>\n",
              "  </tbody>\n",
              "</table>\n",
              "</div>"
            ],
            "text/plain": [
              "   IdVenda        Data  IdLoja  IdProduto  CustoUnitario  PrecoUnitario  \\\n",
              "0    29133  02/05/2008       5        848           7.95          15.60   \n",
              "1   973276  01/10/2008       5        847           7.95          15.60   \n",
              "2   558373  12/05/2008       5        870          10.69          20.96   \n",
              "3   754202  07/05/2008       5       1267          25.47          49.96   \n",
              "4   248559  07/06/2009       5        886          49.70         150.00   \n",
              "\n",
              "   QtdVenda  QtdDevolucao  VlrDevolucao  VlrDesconto  VlrVendido  \n",
              "0        10             0           0.0          0.0       156.0  \n",
              "1        10             0           0.0          0.0       156.0  \n",
              "2        10             0           0.0          0.0       209.6  \n",
              "3        10             0           0.0          0.0       499.6  \n",
              "4        10             0           0.0          0.0      1500.0  "
            ]
          },
          "execution_count": 65,
          "metadata": {},
          "output_type": "execute_result"
        }
      ],
      "source": [
        "# Mostrando as primeiras linhas de fVendas\n",
        "fVendas.head()"
      ]
    },
    {
      "cell_type": "markdown",
      "id": "89087c4b",
      "metadata": {
        "id": "89087c4b"
      },
      "source": [
        "Salvando os DataFrames"
      ]
    },
    {
      "cell_type": "code",
      "execution_count": null,
      "id": "d9b443ff",
      "metadata": {
        "id": "d9b443ff",
        "outputId": "2084ea8e-fbd1-4ad7-b200-3d2eaa804616"
      },
      "outputs": [
        {
          "data": {
            "text/plain": [
              "583"
            ]
          },
          "execution_count": 62,
          "metadata": {},
          "output_type": "execute_result"
        }
      ],
      "source": [
        "# Salvando os DataFrames, após o ETL no banco\n",
        "\n",
        "dCalendario.to_sql('dCalendario_etl', con=engine, if_exists='replace', index=False)\n",
        "dLojas.to_sql('dLojas_etl', con=engine, if_exists='replace', index=False)\n",
        "dProduto.to_sql('dProduto_etl', con=engine, if_exists='replace', index=False)\n",
        "fVendas.to_sql('fVendas_etl', con=engine, if_exists='replace', index=False)"
      ]
    }
  ],
  "metadata": {
    "kernelspec": {
      "display_name": "Python 3",
      "language": "python",
      "name": "python3"
    },
    "language_info": {
      "codemirror_mode": {
        "name": "ipython",
        "version": 3
      },
      "file_extension": ".py",
      "mimetype": "text/x-python",
      "name": "python",
      "nbconvert_exporter": "python",
      "pygments_lexer": "ipython3",
      "version": "3.10.12"
    },
    "colab": {
      "provenance": []
    }
  },
  "nbformat": 4,
  "nbformat_minor": 5
}